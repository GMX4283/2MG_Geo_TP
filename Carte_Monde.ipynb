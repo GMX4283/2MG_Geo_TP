{
 "cells": [
  {
   "cell_type": "code",
   "execution_count": null,
   "id": "c4892107-b4d2-48c6-a828-fb9dffe6c0f5",
   "metadata": {},
   "outputs": [],
   "source": [
    "# chargement des bibliothèques\n",
    "import geopandas\n",
    "import pandas \n",
    "\n",
    "# chargement de la carte\n",
    "fond_carte = geopandas.read_file(\"cartes/MONDE.shp\")\n",
    "\n",
    "# chargement des données \n",
    "# 1) À MODIFIER !!! \n",
    "# - Changez EXEMPLE_1.csv par le nom de votre fichier CSV \n",
    "# - ne pas oublier l'extension ''.csv' et le dossier 'data\\'\n",
    "données = pandas.read_csv(\"data/EXEMPLE_1.csv\")\n",
    "\n",
    "# mise en classe \n",
    "# 2) À MODIFIER !!! \n",
    "# - En fonction de ce que vous voulez montrer, changer de méthode (amplitude fixe, effectifs fixes...)\n",
    "# - changer le nombre de classes, eventuellement rajouter des étiquettes\n",
    "données[\"2022_af\"] = pandas.cut( données[\"2022\"], bins=4 )\n",
    "\n",
    "# jointure carte / données\n",
    "# 3) À MODIFIER !!! \n",
    "# - right_on=\"Country Code\" -> changer \"Country Code\" par le nom de votre clés contenant le code ISO3 des pays : CHE, DEU, FRA, etc. \n",
    "carte = fond_carte.merge(données, how=\"left\", left_on=\"SOV_A3\", right_on=\"Country Code\")\n",
    "\n",
    "# affichage de la carte\n",
    "# 4) À MODIFIER !!!\n",
    "# - changer la colonne à afficher\n",
    "# - mettre en forme\n",
    "ma_carte = carte.plot(\n",
    "    column=\"2022_af\",\n",
    "    legend=True, \n",
    "    cmap='summer_r',\n",
    "    missing_kwds={\n",
    "        'color':'lightgray',\n",
    "        'label':'pas de données'\n",
    "    }, \n",
    "    legend_kwds={\n",
    "        'loc': 'lower left'\n",
    "    },\n",
    "    figsize=(10, 6)\n",
    ")\n",
    "ma_carte.set_axis_off()\n",
    "ma_carte.set_title(\"Surface forestière (% du territoire)\")"
   ]
  }
 ],
 "metadata": {
  "kernelspec": {
   "display_name": "Python 3 (ipykernel)",
   "language": "python",
   "name": "python3"
  },
  "language_info": {
   "codemirror_mode": {
    "name": "ipython",
    "version": 3
   },
   "file_extension": ".py",
   "mimetype": "text/x-python",
   "name": "python",
   "nbconvert_exporter": "python",
   "pygments_lexer": "ipython3",
   "version": "3.12.6"
  }
 },
 "nbformat": 4,
 "nbformat_minor": 5
}
