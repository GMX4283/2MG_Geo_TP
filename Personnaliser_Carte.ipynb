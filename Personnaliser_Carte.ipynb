{
 "cells": [
  {
   "cell_type": "markdown",
   "id": "e59dd037-8f42-413c-9abf-209374b52699",
   "metadata": {},
   "source": [
    "# Personnaliser sa carte\n",
    "\n",
    "Considérons la carte suivante :"
   ]
  },
  {
   "cell_type": "code",
   "execution_count": null,
   "id": "3a67c364-7c13-4080-b1bb-455837894911",
   "metadata": {},
   "outputs": [],
   "source": [
    "# chargement des bibliothèques\n",
    "import geopandas\n",
    "import pandas \n",
    "# chargement des données\n",
    "données = pandas.read_csv('data/EXEMPLE_1.csv')\n",
    "# chargement de la carte\n",
    "fond_carte = geopandas.read_file(\"cartes/MONDE.shp\")\n",
    "# mise en classe sur une colonne\n",
    "données[\"2022_af\"] = pandas.cut( données[\"2022\"], bins=4 )\n",
    "# jointure fond de carte avec les données\n",
    "carte = fond_carte.merge(données, how=\"left\", left_on=\"SOV_A3\", right_on=\"Country Code\")\n",
    "# affichage de la carte\n",
    "carte.plot(\n",
    "    column=\"2022_af\"\n",
    ")"
   ]
  },
  {
   "cell_type": "markdown",
   "id": "eb658889-18fd-40a6-b454-b23a87a904a4",
   "metadata": {},
   "source": [
    "La carte est générée avec la **palette de couleurs** standard, aucune autre information ne s'affiche !\\\n",
    "Voyant maintenant comment personnaliser cette carte en : \n",
    "- affichant une légende\n",
    "- changer la palette de couleurs\n",
    "- définir une couleur pour les pays sans données\n",
    "- personnaliser la légende\n",
    "- changer la taille de la carte\n",
    "- retirer les axes\n",
    "- ajouter un titre"
   ]
  },
  {
   "cell_type": "markdown",
   "id": "c2f0f6ec-8410-4e23-b449-2e5beb643967",
   "metadata": {},
   "source": [
    "### Afficher la légende \n",
    "Il suffit juste de rajouter l'argument `legend=True` à la fonction `plot()`.\\\n",
    "**Attention ! Ne pas oublier la virgule après le 1er argument !**\\\n",
    "Bien évidemment, vous êtes libres de définir vos propres étiquettes lors de la mise en classe !"
   ]
  },
  {
   "cell_type": "code",
   "execution_count": null,
   "id": "c4def6d1-8637-4b9e-b1ac-4a90c43b5848",
   "metadata": {},
   "outputs": [],
   "source": [
    "carte.plot(\n",
    "    column=\"2022_af\",\n",
    "    legend=True\n",
    ")"
   ]
  },
  {
   "cell_type": "markdown",
   "id": "123acac3-258f-4132-ba08-da324405d06a",
   "metadata": {},
   "source": [
    "### Changer la palette de couleurs\n",
    "Il faut cette fois ajouter l'argument `cmap=` suivi du nom du jeu de couleur, par exemple : viridis, viridis_r, plasma, plasma_r, Blues, cool, YlGn...\\\n",
    "Plus de choix [ici](https://matplotlib.org/stable/users/explain/colors/colormaps.html)\\\n",
    "Attention ! À nouveau, ne pas oublier la virgule après l'argument précédent !"
   ]
  },
  {
   "cell_type": "code",
   "execution_count": null,
   "id": "ef327ad3-3979-49b2-b0d1-dbb04800a22f",
   "metadata": {},
   "outputs": [],
   "source": [
    "carte.plot(\n",
    "    column=\"2022_af\",\n",
    "    legend=True, \n",
    "    cmap='summer_r'\n",
    ")"
   ]
  },
  {
   "cell_type": "markdown",
   "id": "8bbca2e0-f034-48a4-ab0c-eedf69d43d1e",
   "metadata": {},
   "source": [
    "### Définir une couleur pour les pays sans données\n",
    "Il faut cette fois ajouter l'argument `missing_kwds=` suivi de crochets qui contiendront d'autres arguments :\n",
    "- `'color:'`, suivi du nom de la [couleur HTML de votre choix](https://www.w3schools.com/colors/colors_names.asp)\n",
    "- `label:`, suivi du nom de l'étiquette pour les pays sans données"
   ]
  },
  {
   "cell_type": "code",
   "execution_count": null,
   "id": "2c942f98-7f33-4316-8875-25c8494efffd",
   "metadata": {},
   "outputs": [],
   "source": [
    "carte.plot(\n",
    "    column=\"2022_af\",\n",
    "    legend=True, \n",
    "    cmap='summer_r',\n",
    "    missing_kwds={\n",
    "        'color':'lightgray',\n",
    "        'label':'pas de données'\n",
    "    }\n",
    ")"
   ]
  },
  {
   "cell_type": "markdown",
   "id": "d5c60e5d-6788-40dd-bf98-6022f9f61e01",
   "metadata": {},
   "source": [
    "### Personnaliser la légende\n",
    "Personnalisez la légende avec `legend_kwds=`, suivi de crochets qui contiendront un argument :\n",
    "- `'loc:'`, suivi de 'upper' ou 'lower' et 'left' ou 'right' pour la placer en haut/en bas/à gauche/à droite"
   ]
  },
  {
   "cell_type": "code",
   "execution_count": null,
   "id": "3e7e8031-ffa2-4d5e-83ba-3d13314341d7",
   "metadata": {},
   "outputs": [],
   "source": [
    "carte.plot(\n",
    "    column=\"2022_af\",\n",
    "    legend=True, \n",
    "    cmap='summer_r',\n",
    "    missing_kwds={\n",
    "        'color':'lightgray',\n",
    "        'label':'pas de données'\n",
    "    }, \n",
    "    legend_kwds={\n",
    "        'loc': 'lower left'\n",
    "    }\n",
    ")"
   ]
  },
  {
   "cell_type": "markdown",
   "id": "109c4fc9-cbe0-47ee-ba33-f8656b55682c",
   "metadata": {},
   "source": [
    "### Changer la taille de la carte\n",
    "Il faut ranjouter l'argument `figsize=` suivi de la taille de la carte entre paranthèses, à savoir largeur et hauteur, exprimées en pouces..."
   ]
  },
  {
   "cell_type": "code",
   "execution_count": null,
   "id": "bb4f660a-3fcb-4671-833c-cbf3230152a0",
   "metadata": {},
   "outputs": [],
   "source": [
    "carte.plot(\n",
    "    column=\"2022_af\",\n",
    "    legend=True, \n",
    "    cmap='summer_r',\n",
    "    missing_kwds={\n",
    "        'color':'lightgray',\n",
    "        'label':'pas de données'\n",
    "    }, \n",
    "    legend_kwds={\n",
    "        'loc': 'lower left'\n",
    "    },\n",
    "    figsize=(10, 6)\n",
    ")"
   ]
  },
  {
   "cell_type": "markdown",
   "id": "b519881b-96d8-4459-9fd9-a6f3ed410d15",
   "metadata": {},
   "source": [
    "### Retirer les axes\n",
    "Pour retirer les axes il faut :\n",
    "- stocker la carte générée par `plot()` dans une variable\n",
    "- appeler la fonction `set_axis_off()` sur cette nouvelle variable"
   ]
  },
  {
   "cell_type": "code",
   "execution_count": null,
   "id": "ca79879e-29f2-46db-ba4b-361f20f4c7dd",
   "metadata": {},
   "outputs": [],
   "source": [
    "ma_carte = carte.plot(\n",
    "    column=\"2022_af\",\n",
    "    legend=True, \n",
    "    cmap='summer_r',\n",
    "    missing_kwds={\n",
    "        'color':'lightgray',\n",
    "        'label':'pas de données'\n",
    "    }, \n",
    "    legend_kwds={\n",
    "        'loc': 'lower left'\n",
    "    },\n",
    "    figsize=(10, 6)\n",
    ")\n",
    "ma_carte.set_axis_off()"
   ]
  },
  {
   "cell_type": "markdown",
   "id": "4d230f7e-546d-4aeb-9597-e34949e9ea3d",
   "metadata": {},
   "source": [
    "### Ajouter un titre\n",
    "Pour retirer ajouter un titre, il faut appeler la fonction `set_title()` sur la nouvelle variable et passer en paramètre le titre de votre carte."
   ]
  },
  {
   "cell_type": "code",
   "execution_count": null,
   "id": "dd708eef-4eb7-4586-8ce9-bc49a9db71da",
   "metadata": {},
   "outputs": [],
   "source": [
    "ma_carte = carte.plot(\n",
    "    column=\"2022_af\",\n",
    "    legend=True, \n",
    "    cmap='summer_r',\n",
    "    missing_kwds={\n",
    "        'color':'lightgray',\n",
    "        'label':'pas de données'\n",
    "    }, \n",
    "    legend_kwds={\n",
    "        'loc': 'lower left'\n",
    "    },\n",
    "    figsize=(10, 6)\n",
    ")\n",
    "ma_carte.set_axis_off()\n",
    "ma_carte.set_title(\"Surface forestière (% du territoire)\")"
   ]
  },
  {
   "cell_type": "markdown",
   "id": "547574c3-cbb8-4d49-8f0c-fecda8acac5e",
   "metadata": {},
   "source": [
    "## Pour aller plus loin\n",
    "Pour ceux qui le désirent, voici comment : \n",
    "- zoomer sur une zone de la carte\n",
    "- changer la couleur de fond\n",
    "\n",
    "### Zoomer sur une zone de la carte\n",
    "Il faut définir les limites avec `set_xlim(x min, y max)` et `set_ylim(y min,y max)` "
   ]
  },
  {
   "cell_type": "code",
   "execution_count": null,
   "id": "2ec5534f-54e9-41f2-8744-d615dd74a015",
   "metadata": {},
   "outputs": [],
   "source": [
    "ma_carte = carte.plot(\n",
    "    column=\"2022_af\",\n",
    "    legend=True, \n",
    "    cmap='summer_r',\n",
    "    missing_kwds={\n",
    "        'color':'lightgray',\n",
    "        'label':'pas de données'\n",
    "    }, \n",
    "    legend_kwds={\n",
    "        'loc': 'lower left'\n",
    "    },\n",
    "    figsize=(10, 6)\n",
    ")\n",
    "ma_carte.set_axis_off()\n",
    "ma_carte.set_title(\"Surface forestière (% du territoire)\")\n",
    "# on récupère les limites actuelles\n",
    "minx, miny, maxx, maxy = carte.total_bounds\n",
    "# on modifie les limites\n",
    "ma_carte.set_xlim(minx+150, maxx-120)\n",
    "ma_carte.set_ylim(miny+50, maxy-40)"
   ]
  },
  {
   "cell_type": "markdown",
   "id": "5374f55b-bf12-4b99-a886-b48f73aa53de",
   "metadata": {},
   "source": [
    "### Changer la couleur de fond\n",
    "- importer matplotlib.pyplot\n",
    "- initialiser un objet \"figure\" et \"axes\"\n",
    "- définir les couleurs de fond\n",
    "- rajouter l'argument `ax=ax` dans la fonction plot"
   ]
  },
  {
   "cell_type": "code",
   "execution_count": null,
   "id": "69545fcc-9c4d-4496-91bb-0b3536396bdc",
   "metadata": {},
   "outputs": [],
   "source": [
    "import matplotlib.pyplot as plt\n",
    "fig, ax = plt.subplots(1, 1, figsize=(6, 10))\n",
    "ax.set_facecolor('#2e3440') # Couleur de fond de la carte\n",
    "fig.patch.set_facecolor('#2e3440')  # Couleur de fond de l'image\n",
    "\n",
    "\n",
    "ma_carte = carte.plot(\n",
    "    ax=ax, # NE PAS OUBLIER\n",
    "    column=\"2022_af\",\n",
    "    legend=True, \n",
    "    cmap='summer_r',\n",
    "    missing_kwds={\n",
    "        'color':'lightgray',\n",
    "        'label':'pas de données'\n",
    "    }, \n",
    "    legend_kwds={\n",
    "        'loc': 'lower left'\n",
    "    },\n",
    "    figsize=(6, 10)\n",
    ")\n",
    "ma_carte.set_axis_off()\n",
    "ma_carte.set_title(\"Surface forestière (% du territoire)\", color=\"lightgrey\")\n",
    "# on récupère les limites actuelles\n",
    "minx, miny, maxx, maxy = carte.total_bounds\n",
    "# on modifie les limites\n",
    "ma_carte.set_xlim(minx+150, maxx-120)\n",
    "ma_carte.set_ylim(miny+50, maxy-40)"
   ]
  }
 ],
 "metadata": {
  "kernelspec": {
   "display_name": "Python 3 (ipykernel)",
   "language": "python",
   "name": "python3"
  },
  "language_info": {
   "codemirror_mode": {
    "name": "ipython",
    "version": 3
   },
   "file_extension": ".py",
   "mimetype": "text/x-python",
   "name": "python",
   "nbconvert_exporter": "python",
   "pygments_lexer": "ipython3",
   "version": "3.12.6"
  }
 },
 "nbformat": 4,
 "nbformat_minor": 5
}
